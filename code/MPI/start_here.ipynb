{
 "cells": [
  {
   "cell_type": "markdown",
   "metadata": {
    "id": "6_vqFo-wFgJn"
   },
   "source": [
    "# PPD: MPI e programação com passagem de mensagem\n",
    "### Hélio - DC/UFSCar - 2023"
   ]
  },
  {
   "cell_type": "markdown",
   "metadata": {
    "tags": []
   },
   "source": [
    "Neste módulo, iremos abordar os conceitos fundamentais da ferramenta MPI(Mesage Passing Interface). Os links abaixo os redirecionarão para cada um dos módulos a serem abordados:"
   ]
  },
  {
   "cell_type": "markdown",
   "metadata": {},
   "source": [
    "## [Módulo 01: Passos Iniciais](ppd_mpi_1.ipynb) \n",
    "Temas abordados neste jupyter:\n",
    "- O que é MPI e sua função na programação paralela distribuída\n",
    "- Modelo de aplicação SPMD\n",
    "- Compilação de programas MPI\n",
    "- Chamada de funções MPI_Init e MPI_Finalize"
   ]
  },
  {
   "cell_type": "markdown",
   "metadata": {},
   "source": [
    "## [Módulo 02: Transmissão de Dados](ppd_mpi_2.ipynb)\n",
    "Temas abordados neste jupyter:\n",
    "- aspectos de transmissao em MPI\n",
    "- transmissao de ponto a ponto\n",
    "- Introdução ao conceito de MPI_COMM_WORLD\n",
    "- Transmissoes coletivas \n",
    "- Predefinição de dados em MPI(MPI_CHAR, MPI_INT, etc...)\n"
   ]
  },
  {
   "cell_type": "markdown",
   "metadata": {},
   "source": [
    "## [Módulo 03: Comunicações Coletivas](ppd_mpi_3.ipynb)\n",
    "Temas Abordados neste jupyter: \n",
    "- Comandos de comunição em conjunto: Broadcast, Barrier\n",
    "- Operações de redução\n"
   ]
  },
  {
   "cell_type": "markdown",
   "metadata": {},
   "source": [
    "## [Módulo 04: MPI na Prática](ppd_mpi_3.ipynb)\n",
    "Temas Abordados neste jupyter: \n",
    "- \n"
   ]
  }
 ],
 "metadata": {
  "colab": {
   "collapsed_sections": [
    "Gb9WsW6XVBeC",
    "nhDygKaQe2pH"
   ],
   "provenance": []
  },
  "kernelspec": {
   "display_name": "Python 3 (Intel® oneAPI 2023.0)",
   "language": "python",
   "name": "c009-intel_distribution_of_python_3_oneapi-beta05-python"
  },
  "language_info": {
   "codemirror_mode": {
    "name": "ipython",
    "version": 3
   },
   "file_extension": ".py",
   "mimetype": "text/x-python",
   "name": "python",
   "nbconvert_exporter": "python",
   "pygments_lexer": "ipython3",
   "version": "3.9.15"
  }
 },
 "nbformat": 4,
 "nbformat_minor": 4
}
