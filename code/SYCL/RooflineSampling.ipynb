{
 "cells": [
  {
   "attachments": {},
   "cell_type": "markdown",
   "metadata": {},
   "source": [
    "# Ferramentas de Análise de Paralelismo - Intel Advisor\n",
    "### Importante : \n",
    "Para execução deste material, é necessário o uso da plataforma __Intel Devcloud__ para o correto funcionamento, bem como o download de dois exemplos do repositorio INTEL: \n",
    "- Mandelbrot\n",
    "- DiscreteCosineTransform\n",
    "\n",
    "Para facilitar, execute as células que se encontram abaixo.\n"
   ]
  },
  {
   "cell_type": "code",
   "execution_count": 2,
   "metadata": {},
   "outputs": [
    {
     "name": "stdout",
     "output_type": "stream",
     "text": [
      "Checked out revision 1669.\n",
      "Checked out revision 1669.\n"
     ]
    }
   ],
   "source": [
    "!svn checkout https://github.com/oneapi-src/oneAPI-samples/trunk/DirectProgramming/C%2B%2BSYCL/SpectralMethods/DiscreteCosineTransform\n",
    "!svn checkout https://github.com/oneapi-src/oneAPI-samples/trunk/DirectProgramming/C%2B%2BSYCL/CombinationalLogic/mandelbrot"
   ]
  },
  {
   "attachments": {},
   "cell_type": "markdown",
   "metadata": {},
   "source": [
    "## 1) Oque é Roofline ? \n",
    "Roofline é uma representação visual do desempenho do algoritmo em relação ao hardware no qual é executado, oque permite uma análise visual de largura de banda de memória e picos computacionais. O intel Advisor é uma das ferramentas que mede e plota este tipo de gráfico automatizadamente."
   ]
  },
  {
   "attachments": {},
   "cell_type": "markdown",
   "metadata": {},
   "source": [
    "## Requisitos para GPU's \n",
    "Para realizar uma implementação em GPU, é necessario gráficos integrados - de Geração 9 ou 11 - e a transmissao destes dados deve ser efetuada por meio das linguagens de programação _OpenMP, SYCL, DPC++_ ou _OpenCL_. "
   ]
  },
  {
   "attachments": {},
   "cell_type": "markdown",
   "metadata": {},
   "source": [
    "## Como é o gráfico funciona, na prática? "
   ]
  },
  {
   "attachments": {},
   "cell_type": "markdown",
   "metadata": {},
   "source": [
    "No exemplo abaixo, temos a apresentação de um gráfico de Roofline. Ele é composto principalmente por duas linhas que são os limitantes do hardware em questão, sendo um limitante de Largura de Banda e outro Limitante de Intensidade Operacional. Vamos abordar cada um: \n"
   ]
  },
  {
   "cell_type": "code",
   "execution_count": null,
   "metadata": {},
   "outputs": [],
   "source": [
    "import os\n",
    "from IPython.display import IFrame\n",
    "os.system(' Terminal de execucao :/bin/echo $(whoami)\\n Analise de Roofline -- roofline.html')\n",
    "IFrame(src='assets/roofline.html', width=1024, height=769)"
   ]
  },
  {
   "attachments": {},
   "cell_type": "markdown",
   "metadata": {},
   "source": [
    "- `Largura de Memória(Bandwidth):`\n",
    "Temos a representação de _bandwidth_ como a taxa máxima de transferência de dados entre Memória e CPU/GPU esta unidade de transferência de dados é importante para algoritmos em paralelos, justamente porque um dos gargalos que podemos ter em nossos algoritmos é a memória. Esta linha é representada pela linha diagonal principal.\n",
    "\n",
    "\n",
    "- `Intensidade Operacional(I.O):`\n",
    "Apresenta a quantidade de operações artiméticas por byte transferido. Ou seja, apresenta o quanto o processador está \"ocupado\" realizando operações e sua intensidade de acordo com o total de dados recebidos. Vale ressaltar que sua métrica é apresentada pela razão de operações máximas de ponto flutuante(FLOPS) por byte recebido. Esta medida é representa pela linha horizontal.\n",
    "\n",
    "\n",
    "Note que temos mais de uma linha que representa a `largura de banda` e `Intensidade Operacional`. Isso porque , em um mesmo hardware, temos diferentes modos de acesso à memória(Acesso a Memória RAM, cache L1, L2, L3), bem como operações que possuem tamanhos distintos (sizeof float = 32 bits, sizeof double = 64, etc..). Em resumo, temos que levar em conta o tipo de dado que estamos utilizando na nossa operação para determinarmos qual topo teórico será levado em consideração. \n",
    "\n",
    "<img src='assets/r2.png'>"
   ]
  },
  {
   "attachments": {},
   "cell_type": "markdown",
   "metadata": {},
   "source": [
    "##  Gerando Rooflines com exemplos da OneAPI\n",
    "Neste notebook, escolhemos os seguintes exemplos do repositório da oneAPI: \n",
    "- Exemplo 01: Discrete Cossine Transformation (DCT)\n",
    "- Exemplo 02: Sparse Matrix Multiplicação \n",
    "\n",
    "Abordaremos as nuances de cada algoritmo abaixo. Siga as instruções em cada célula."
   ]
  },
  {
   "cell_type": "code",
   "execution_count": 9,
   "metadata": {},
   "outputs": [
    {
     "name": "stdout",
     "output_type": "stream",
     "text": [
      "Overwriting DiscreteCosineTransform/src/CMakeLists.txt\n"
     ]
    }
   ],
   "source": [
    "%%writefile DiscreteCosineTransform/src/CMakeLists.txt\n",
    "# precisamos modificar o CMAkeLists para adicionar um novo target: \"run-profile\"\n",
    "\n",
    "set(CMAKE_CXX_FLAGS \"${CMAKE_CXX_FLAGS} -g -std=c++17 -fsycl\")\n",
    "set(CMAKE_EXE_LINKER_FLAGS \"${CMAKE_EXE_LINKER_FLAGS}\")\n",
    "\n",
    "add_executable(mandelbrot main.cpp)\n",
    "target_link_libraries(mandelbrot OpenCL sycl)\n",
    "add_custom_target(run ./mandelbrot)\n",
    "\n",
    "add_executable(mandelbrot_usm main.cpp)\n",
    "target_compile_definitions(mandelbrot_usm PRIVATE MANDELBROT_USM)\n",
    "target_link_libraries(mandelbrot_usm OpenCL sycl)\n",
    "add_custom_target(run_usm ./mandelbrot_usm)\n",
    "\n",
    "add_custom_target(run-profile\n",
    "  COMMAND advisor --collect=roofline --project-dir=./adv -- ./mandelbrot_usm\n",
    "  COMMAND advisor --report=roofline --project-dir=./adv --report-output=./../../mandel_roofline.html\n",
    "  DEPENDS mandelbrot_usm\n",
    "  COMMENT \"Running Intel Advisor on MandelBrot_USM\"\n",
    ")\n"
   ]
  },
  {
   "cell_type": "code",
   "execution_count": 10,
   "metadata": {},
   "outputs": [
    {
     "name": "stdout",
     "output_type": "stream",
     "text": [
      "Overwriting DiscreteCosineTransform/build_run.sh\n"
     ]
    }
   ],
   "source": [
    "%%writefile DiscreteCosineTransform/build_run.sh\n",
    "# dpcpp env-setting\n",
    "source /opt/intel/inteloneapi/setvars.sh > /dev/null 2>&1s\n",
    "# Advisor env-variables\n",
    "source /opt/intel/inteloneapi/advisor/2023.0.0/advisor-vars.sh\n",
    "source /opt/intel/inteloneapi/advisor/2023.0.0/advixe-vars.sh\n",
    "\n",
    "#Build by CMAKE\n",
    "mkdir build\n",
    "cd build\n",
    "cmake ..\n",
    "make\n",
    "\n",
    "make run-profile\n"
   ]
  },
  {
   "cell_type": "code",
   "execution_count": 18,
   "metadata": {},
   "outputs": [],
   "source": [
    "# Execute esta célula para submeter o Exemplo 01.\n",
    "! chmod 755 q; chmod 755 DiscreteCosineTransform/build_run.sh;if [ -x \"$(command -v qsub)\" ]; then ./q DiscreteCosineTransform/build_run.sh; else ./DiscreteCosineTransform/build_run.sh; fi"
   ]
  },
  {
   "cell_type": "code",
   "execution_count": 11,
   "metadata": {},
   "outputs": [
    {
     "name": "stdout",
     "output_type": "stream",
     "text": [
      "Overwriting mandelbrot/src/CMakeLists.txt\n"
     ]
    }
   ],
   "source": [
    "%%writefile mandelbrot/src/CMakeLists.txt\n",
    "# precisamos modificar o CMAkeLists para adicionar um novo target: \"run-profile\"\n",
    "\n",
    "set(CMAKE_CXX_FLAGS \"${CMAKE_CXX_FLAGS} -g -std=c++17 -fsycl\")\n",
    "set(CMAKE_EXE_LINKER_FLAGS \"${CMAKE_EXE_LINKER_FLAGS}\")\n",
    "\n",
    "add_executable(mandelbrot main.cpp)\n",
    "target_link_libraries(mandelbrot OpenCL sycl)\n",
    "add_custom_target(run ./mandelbrot)\n",
    "\n",
    "add_executable(mandelbrot_usm main.cpp)\n",
    "target_compile_definitions(mandelbrot_usm PRIVATE MANDELBROT_USM)\n",
    "target_link_libraries(mandelbrot_usm OpenCL sycl)\n",
    "add_custom_target(run_usm ./mandelbrot_usm)\n",
    "\n",
    "add_custom_target(run-profile\n",
    "  COMMAND advisor --collect=roofline --project-dir=./adv -- ./mandelbrot_usm\n",
    "  COMMAND advisor --report=roofline --project-dir=./adv --report-output=./../../mandel_roofline.html\n",
    "  DEPENDS mandelbrot_usm\n",
    "  COMMENT \"Running Intel Advisor on MandelBrot_USM\"\n",
    ")\n"
   ]
  },
  {
   "cell_type": "code",
   "execution_count": 12,
   "metadata": {},
   "outputs": [
    {
     "name": "stdout",
     "output_type": "stream",
     "text": [
      "Writing mandelbrot/build_run.sh\n"
     ]
    }
   ],
   "source": [
    "%%writefile mandelbrot/build_run.sh\n",
    "# dpcpp env-setting\n",
    "source /opt/intel/inteloneapi/setvars.sh > /dev/null 2>&1s\n",
    "# Advisor env-variables\n",
    "source /opt/intel/inteloneapi/advisor/2023.0.0/advisor-vars.sh\n",
    "source /opt/intel/inteloneapi/advisor/2023.0.0/advixe-vars.sh\n",
    "\n",
    "#Build by CMAKE\n",
    "mkdir build\n",
    "cd build\n",
    "cmake ..\n",
    "make\n",
    "\n",
    "make run-profile"
   ]
  },
  {
   "cell_type": "code",
   "execution_count": null,
   "metadata": {},
   "outputs": [],
   "source": [
    "# Execute esta célula para submeter o build do Exemplo 01.\n",
    "! chmod 755 q; chmod 755 mandelbrot/build_run.sh;if [ -x \"$(command -v qsub)\" ]; then ./q mandelbrot/build_run.sh; else ./mandelbrot/build_run.sh; fi"
   ]
  },
  {
   "attachments": {},
   "cell_type": "markdown",
   "metadata": {},
   "source": [
    "Com a execução das células acima, você notará a criação de dois arquivos na pasta principal :\n",
    "- spmv_roofline.html \n",
    "- mandel_roofline.html \n",
    "Estes arquivos podem ser visualizados aqui mesmo no Jupyter:"
   ]
  },
  {
   "cell_type": "code",
   "execution_count": null,
   "metadata": {},
   "outputs": [],
   "source": [
    "#Impressao Roofline de spmv\n",
    "from IPython.display import IFrame\n",
    "IFrame(src='/spmv_roofline.html', width=1024, height=769)"
   ]
  },
  {
   "cell_type": "code",
   "execution_count": null,
   "metadata": {},
   "outputs": [],
   "source": [
    "#Impressao Roofline de MandelBrot\n",
    "from IPython.display import IFrame\n",
    "IFrame(src='/mandel_roofline.html', width=1024, height=769)"
   ]
  }
 ],
 "metadata": {
  "kernelspec": {
   "display_name": "Python 3",
   "language": "python",
   "name": "python3"
  },
  "language_info": {
   "codemirror_mode": {
    "name": "ipython",
    "version": 3
   },
   "file_extension": ".py",
   "mimetype": "text/x-python",
   "name": "python",
   "nbconvert_exporter": "python",
   "pygments_lexer": "ipython3",
   "version": "3.10.6"
  },
  "orig_nbformat": 4,
  "vscode": {
   "interpreter": {
    "hash": "916dbcbb3f70747c44a77c7bcd40155683ae19c65e1c03b4aa3499c5328201f1"
   }
  }
 },
 "nbformat": 4,
 "nbformat_minor": 2
}
