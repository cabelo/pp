{
 "cells": [
  {
   "cell_type": "markdown",
   "metadata": {},
   "source": [
    "# Ferramentas de Análise de Paralelismo - Intel Advisor\n",
    "### Importante : \n",
    "Para execução deste material, é preciso a instalação do [_HPC Intel Toolkit_](https://www.intel.com/content/www/us/en/developer/tools/oneapi/hpc-toolkit-download.html) ou pelo uso da __Intel Devcloud__. Neste jupyter, faremos a demonstração e explicação do roofline por meio de dois exemplos retirados [deste repositorio](https://github.com/oneapi-src/oneAPI-samples):\n",
    "- Mandelbrot\n",
    "- DiscreteCosineTransform"
   ]
  },
  {
   "cell_type": "markdown",
   "metadata": {},
   "source": [
    "## Oque é Roofline ? \n",
    "Roofline é uma representação visual do desempenho do algoritmo em relação ao hardware no qual é executado, oque permite uma análise visual de largura de banda de memória e picos computacionais. O intel Advisor é uma das ferramentas que mede e plota este tipo de gráfico automatizadamente."
   ]
  },
  {
   "cell_type": "markdown",
   "metadata": {},
   "source": [
    "## Requisitos para GPU's \n",
    "Para realizar uma implementação em GPU, é necessario gráficos integrados - de Geração 9 ou 11 - e a transmissao destes dados deve ser efetuada por meio das linguagens de programação _OpenMP, SYCL, DPC++_ ou _OpenCL_. "
   ]
  },
  {
   "cell_type": "markdown",
   "metadata": {},
   "source": [
    "## Como é o gráfico funciona, na prática? "
   ]
  },
  {
   "cell_type": "markdown",
   "metadata": {},
   "source": [
    "No exemplo abaixo, temos a apresentação de um gráfico de Roofline. Ele é composto principalmente por duas linhas que são os limitantes do hardware em questão, sendo um limitante de Largura de Banda e outro Limitante de Intensidade Operacional. Vamos abordar cada um: \n"
   ]
  },
  {
   "cell_type": "code",
   "execution_count": null,
   "metadata": {},
   "outputs": [],
   "source": [
    "import os\n",
    "from IPython.display import IFrame\n",
    "os.system(' Terminal de execucao :/bin/echo $(whoami)\\n Analise de Roofline -- roofline.html')\n",
    "IFrame(src='assets/roofline.html', width=1024, height=769)"
   ]
  },
  {
   "cell_type": "markdown",
   "metadata": {},
   "source": [
    "- `Largura de Memória(Bandwidth):`\n",
    "Temos a representação de _bandwidth_ como a taxa máxima de transferência de dados entre Memória e CPU/GPU esta unidade de transferência de dados é importante para algoritmos em paralelos, justamente porque um dos gargalos que podemos ter em nossos algoritmos é a memória. Esta linha é representada pela linha diagonal principal.\n",
    "\n",
    "\n",
    "- `Intensidade Operacional(I.O):`\n",
    "Apresenta a quantidade de operações artiméticas por byte transferido. Ou seja, apresenta o quanto o processador está \"ocupado\" realizando operações e sua intensidade de acordo com o total de dados recebidos. Vale ressaltar que sua métrica é apresentada pela razão de operações máximas de ponto flutuante(FLOPS) por byte recebido. Esta medida é representa pela linha horizontal.\n",
    "\n",
    "\n",
    "Note que temos mais de uma linha que representa a `largura de banda` e `Intensidade Operacional`. Isso porque , em um mesmo hardware, temos diferentes modos de acesso à memória(Acesso a Memória RAM, cache L1, L2, L3), bem como operações que possuem tamanhos distintos (sizeof float = 32 bits, sizeof double = 64, etc..). Em resumo, temos que levar em conta o tipo de dado que estamos utilizando na nossa operação para determinarmos qual topo teórico será levado em consideração. \n",
    "\n",
    "<img src='assets/r2.png'>"
   ]
  },
  {
   "cell_type": "markdown",
   "metadata": {},
   "source": [
    "##  Gerando Rooflines com exemplos da OneAPI\n",
    "Neste notebook, escolhemos os seguintes exemplos do repositório da oneAPI: \n",
    "- Exemplo 01: Discrete Cossine Transformation (DCT)\n",
    "- Exemplo 02: Sparse Matrix Multiplicação \n",
    "\n",
    "Abordaremos as nuances de cada algoritmo abaixo. Siga as instruções em cada célula."
   ]
  },
  {
   "cell_type": "code",
   "execution_count": 79,
   "metadata": {},
   "outputs": [
    {
     "name": "stdout",
     "output_type": "stream",
     "text": [
      "Overwriting DiscreteCosineTransform/src/CMakeLists.txt\n"
     ]
    }
   ],
   "source": [
    "%%writefile DiscreteCosineTransform/src/CMakeLists.txt\n",
    "# precisamos modificar o CMAkeLists para adicionar um novo target: \"run-profile\"\n",
    "\n",
    "if(PERF_NUM)\n",
    "set(CMAKE_CXX_FLAGS \"${CMAKE_CXX_FLAGS} -g -fsycl -std=c++17 -D PERF_NUM\")\n",
    "message (STATUS \"target will be built for performance tabulation\")\n",
    "else()\n",
    "set(CMAKE_CXX_FLAGS \"${CMAKE_CXX_FLAGS} -fsycl -std=c++17\")\n",
    "endif()\n",
    "set(CMAKE_EXE_LINKER_FLAGS \"${CMAKE_EXE_LINKER_FLAGS}\")\n",
    "add_executable (dct DCT.cpp)\n",
    "target_link_libraries(dct OpenCL sycl)\n",
    "file(COPY ../res/willyriver.bmp DESTINATION .)\n",
    "add_custom_target (run ./dct willyriver.bmp willyriver_processed.bmp)\n",
    "\n",
    "add_custom_target(run-profile\n",
    "  COMMAND advisor --collect=roofline --project-dir=./adv --  ./dct willyriver.bmp willyriver_processed.bmp\n",
    "  COMMAND advisor --report=roofline --project-dir=./adv --report-output=./../../../dct_roofline.html\n",
    "  DEPENDS dct\n",
    "  COMMENT \"Running Intel Advisor on dct\")\n"
   ]
  },
  {
   "cell_type": "code",
   "execution_count": 81,
   "metadata": {},
   "outputs": [
    {
     "name": "stdout",
     "output_type": "stream",
     "text": [
      "Overwriting DiscreteCosineTransform/build_run.sh\n"
     ]
    }
   ],
   "source": [
    "%%writefile DiscreteCosineTransform/build_run.sh\n",
    "\n",
    "source /opt/intel/inteloneapi/setvars.sh > /dev/null 2>&1s\n",
    "# Advisor env-variables\n",
    "source /opt/intel/inteloneapi/advisor/2023.0.0/advisor-vars.sh\n",
    "source /opt/intel/inteloneapi/advisor/2023.0.0/advixe-vars.sh\n",
    "\n",
    "#Build by CMAKE\n",
    "mkdir build\n",
    "cd build\n",
    "cmake ..\n",
    "make\n",
    "\n",
    "make run-profile\n"
   ]
  },
  {
   "cell_type": "code",
   "execution_count": 115,
   "metadata": {},
   "outputs": [
    {
     "name": "stdout",
     "output_type": "stream",
     "text": [
      "./build_run.sh: line 2: 1s: ambiguous redirect\n",
      "mkdir: cannot create directory ‘build’: File exists\n",
      "-- Configuring done\n",
      "-- Generating done\n",
      "-- Build files have been written to: /home/u187015/about_ACIEPE/pp/code/SYCL/DiscreteCosineTransform/build\n",
      "[100%] Built target dct\n",
      "[ 66%] Built target dct\n",
      "[100%] \u001b[34m\u001b[1mRunning Intel Advisor on dct\u001b[0m\n",
      "advisor: Warning: The Roofline is a special batch mode of data collection. It runs two analyses one by one. There are Survey Analysis and Trip Counts Analysis with FLOP respectively.\n",
      "advisor: Starting command line: advisor --collect survey --project-dir ./adv -- ./dct willyriver.bmp willyriver_processed.bmp\n",
      "Intel(R) Advisor Command Line Tool\n",
      "Copyright (C) 2009-2023 Intel Corporation. All rights reserved.\n",
      "advisor: Opening result 25 % done                                              \n",
      "advisor: Preparing frequently used data  2 % done                              \n",
      "advisor: Preparing frequently used data 100 % done                             \n",
      "advisor: Collection started. To stop the collection, either press CTRL-C or enter from another console window: advisor -r /home/u187015/about_ACIEPE/pp/code/SYCL/DiscreteCosineTransform/build/src/adv/e000/hs010 -command stop.\n",
      "Filename: willyriver.bmp W: 5184 H: 3456\n",
      "\n",
      "Start image processing with offloading to CPU...\n",
      "Running on Intel(R) Xeon(R) Gold 6128 CPU @ 3.40GHz\n",
      "--The processing time is 7.05608 seconds\n",
      "\n",
      "DCT successfully completed on the device.\n",
      "The processed image has been written to willyriver_processed.bmp\n",
      "advisor: Collection stopped.\n",
      "advisor: Opening result 27 % Loading 'tripcounts_2108940_0.tcs' file           \n",
      "advisor: Error: Cannot load data file `/home/u187015/about_ACIEPE/pp/code/SYCL/DiscreteCosineTransform/build/src/adv/e000/hs010/data.1/advixe-runtrc.txt' ().\n",
      "advisor: Opening result 29 % Resolving information for `libpin3dwarf.so'       \n",
      "advisor: Warning: Cannot locate debugging information for file `/lib/x86_64-linux-gnu/libgcc_s.so.1'.\n",
      "advisor: Warning: Cannot locate debugging information for file `/lib64/ld-linux-x86-64.so.2'.\n",
      "advisor: Opening result 29 % Resolving information for `libintelocl_emu.so'    \n",
      "advisor: Warning: Cannot locate debugging information for file `/lib/x86_64-linux-gnu/libc.so.6'.\n",
      "advisor: Opening result 30 % Resolving information for `libittnotify_collector.\n",
      "advisor: Warning: Cannot locate debugging information for file `/glob/development-tools/versions/oneapi/2023.0.1/oneapi/advisor/2023.0.0/lib64/runtime/libittnotify_collector.so'.\n",
      "advisor: Opening result 30 % Resolving information for `libdl.so.2'            \n",
      "advisor: Warning: Cannot locate debugging information for file `/lib/x86_64-linux-gnu/libdl.so.2'.\n",
      "advisor: Warning: Cannot locate debugging information for file `/glob/development-tools/versions/oneapi/2023.0.1/oneapi/advisor/2023.0.0/lib64/libtpsstool.so'.\n",
      "advisor: Opening result 32 % Resolving information for `libstdc++.so.6'        \n",
      "advisor: Warning: Cannot locate debugging information for file `/lib/x86_64-linux-gnu/libstdc++.so.6'.\n",
      "advisor: Opening result 32 % Resolving information for `libpthread.so.0'       \n",
      "advisor: Warning: Cannot locate debugging information for file `/lib/x86_64-linux-gnu/libpthread.so.0'.\n",
      "advisor: Opening result 99 % done                                              \n",
      "advisor: Preparing frequently used data  2 % done                              \n",
      "advisor: Preparing frequently used data 100 % done                             \n",
      "advisor: Warning: Some target modules do not contain debug information \n",
      "advisor: Warning: Your application might be underperforming \n",
      "advisor: Warning: Application with offload directives may require a GPU-specific analysis \n",
      "\n",
      "Program Elapsed Time: 8.59s\n",
      "\n",
      "CPU Time: 8.59s\n",
      "Time in 11 Vectorized Loops: 0.51s\n",
      "GFLOPS: < 0.00\n",
      "GINTOPS: 0.04\n",
      "\n",
      "advisor: Starting command line: advisor --collect tripcounts --project-dir ./adv --flop --no-trip-counts -- ./dct willyriver.bmp willyriver_processed.bmp\n",
      "Intel(R) Advisor Command Line Tool\n",
      "Copyright (C) 2009-2023 Intel Corporation. All rights reserved.\n",
      "advisor: Opening result 25 % done                                              \n",
      "advisor: Preparing frequently used data  2 % done                              \n",
      "advisor: Preparing frequently used data 100 % done                             \n",
      "advisor: Collection started. To stop the collection, either press CTRL-C or enter from another console window: advisor -r /home/u187015/about_ACIEPE/pp/code/SYCL/DiscreteCosineTransform/build/src/adv/e000/trc009 -command stop.\n",
      "Filename: willyriver.bmp W: 5184 H: 3456\n",
      "\n",
      "Start image processing with offloading to CPU...\n",
      "Running on Intel(R) Xeon(R) Gold 6128 CPU @ 3.40GHz\n",
      "--The processing time is 42.164 seconds\n",
      "\n",
      "DCT successfully completed on the device.\n",
      "The processed image has been written to willyriver_processed.bmp\n",
      "advisor: Warning: The application returned a non-zero exit value.\n",
      "advisor: Warning: The application exit code can indicate an error while loading shared libraries, e.g. OpenMP runtime. \n",
      "\n",
      "Possible Solution: Configure the PATH environment variable. If you use an Intel compiler, you can run the following configuration script: \n",
      "\n",
      "source /[install-dir]/bin/compilervars.sh -arch [arch] -platform [platform] \n",
      "Example: source /opt/intel/bin/compilervars.sh intel64  \n",
      "advisor: Opening result 100 % done                                             \n",
      "advisor: Preparing frequently used data  2 % done                              \n",
      "advisor: Preparing frequently used data 100 % done                             \n",
      "advisor: Warning: Some target modules do not contain debug information \n",
      "advisor: Warning: Your application might be underperforming \n",
      "advisor: Warning: Application with offload directives may require a GPU-specific analysis \n",
      "\n",
      "Program Elapsed Time: 8.59s\n",
      "\n",
      "CPU Time: 8.59s\n",
      "Time in 11 Vectorized Loops: 0.51s\n",
      "GFLOPS: 0.43\n",
      "GINTOPS: 0.12\n",
      "\n",
      "advisor: Opening result 25 % done                                              \n",
      "advisor: Preparing frequently used data  2 % done                              \n",
      "advisor: Preparing frequently used data 100 % done                             [100%] Built target run-profile\n"
     ]
    }
   ],
   "source": [
    "# Execute esta célula para submeter o Exemplo 01.\n",
    "!cd DiscreteCosineTransform ; chmod +x build_run.sh; \\\n",
    "chmod 755 q; chmod 755 build_run.sh;if [ -x \"$(command -v qsub)\" ]; then ./build_run.sh; else ./build_run.sh; fi"
   ]
  },
  {
   "cell_type": "code",
   "execution_count": 87,
   "metadata": {},
   "outputs": [
    {
     "name": "stdout",
     "output_type": "stream",
     "text": [
      "Overwriting mandelbrot/src/CMakeLists.txt\n"
     ]
    }
   ],
   "source": [
    "%%writefile mandelbrot/src/CMakeLists.txt\n",
    "# precisamos modificar o CMAkeLists para adicionar um novo target: \"run-profile\"\n",
    "\n",
    "set(CMAKE_CXX_FLAGS \"${CMAKE_CXX_FLAGS} -g -std=c++17 -fsycl\")\n",
    "set(CMAKE_EXE_LINKER_FLAGS \"${CMAKE_EXE_LINKER_FLAGS}\")\n",
    "\n",
    "add_executable(mandelbrot main.cpp)\n",
    "target_link_libraries(mandelbrot OpenCL sycl)\n",
    "add_custom_target(run ./mandelbrot)\n",
    "\n",
    "add_executable(mandelbrot_usm main.cpp)\n",
    "target_compile_definitions(mandelbrot_usm PRIVATE MANDELBROT_USM)\n",
    "target_link_libraries(mandelbrot_usm OpenCL sycl)\n",
    "add_custom_target(run_usm ./mandelbrot_usm)\n",
    "\n",
    "add_custom_target(run-profile\n",
    "  COMMAND advisor --collect=roofline --flop --project-dir=./adv -- ./mandelbrot_usm\n",
    "  # direciona o arquivo para a pasta SYCL                \n",
    "  COMMAND advisor --report=roofline --project-dir=./adv --report-output=./../../../mandel_roofline.html\n",
    "  DEPENDS mandelbrot_usm\n",
    "  COMMENT \"Running Intel Advisor on MandelBrot_USM\"\n",
    ")\n"
   ]
  },
  {
   "cell_type": "code",
   "execution_count": 88,
   "metadata": {},
   "outputs": [
    {
     "name": "stdout",
     "output_type": "stream",
     "text": [
      "Overwriting mandelbrot/build_run.sh\n"
     ]
    }
   ],
   "source": [
    "%%writefile mandelbrot/build_run.sh\n",
    "\n",
    "source /opt/intel/inteloneapi/setvars.sh > /dev/null 2>&1s\n",
    "# Advisor ebuild_runriables\n",
    "source /opt/intel/inteloneapi/advisor/2023.0.0/advisor-vars.sh\n",
    "source /opt/intel/inteloneapi/advisor/2023.0.0/advixe-vars.sh\n",
    "\n",
    "#Build by CMAKE\n",
    "mkdir build\n",
    "cd build\n",
    "cmake ..\n",
    "make\n",
    "\n",
    "make run-profile"
   ]
  },
  {
   "cell_type": "code",
   "execution_count": 113,
   "metadata": {},
   "outputs": [
    {
     "name": "stdout",
     "output_type": "stream",
     "text": [
      "./build_run.sh: line 2: 1s: ambiguous redirect\n",
      "mkdir: cannot create directory ‘build’: File exists\n",
      "-- Configuring done\n",
      "-- Generating done\n",
      "-- Build files have been written to: /home/u187015/about_ACIEPE/pp/code/SYCL/mandelbrot/build\n",
      "[ 50%] Built target mandelbrot_usm\n",
      "[100%] Built target mandelbrot\n",
      "[ 66%] Built target mandelbrot_usm\n",
      "[100%] \u001b[34m\u001b[1mRunning Intel Advisor on MandelBrot_USM\u001b[0m\n",
      "advisor: Warning: The Roofline is a special batch mode of data collection. It runs two analyses one by one. There are Survey Analysis and Trip Counts Analysis with FLOP respectively.\n",
      "advisor: Starting command line: advisor --collect survey --flop --project-dir ./adv -- ./mandelbrot_usm\n",
      "Intel(R) Advisor Command Line Tool\n",
      "Copyright (C) 2009-2023 Intel Corporation. All rights reserved.\n",
      "advisor: Opening result 25 % done                                              \n",
      "advisor: Preparing frequently used data  2 % done                              \n",
      "advisor: Preparing frequently used data 100 % done                             \n",
      "advisor: Collection started. To stop the collection, either press CTRL-C or enter from another console window: advisor -r /home/u187015/about_ACIEPE/pp/code/SYCL/mandelbrot/build/src/adv/e000/hs012 -command stop.\n",
      "     Platform Name: Intel(R) OpenCL\n",
      "  Platform Version: OpenCL 3.0 LINUX\n",
      "       Device Name: Intel(R) Xeon(R) Gold 6128 CPU @ 3.40GHz\n",
      "    Max Work Group: 8192\n",
      " Max Compute Units: 12\n",
      "\n",
      "Parallel Mandelbrot set using USM.\n",
      " Rendered image output to file: mandelbrot.png (output too large to display in text)\n",
      "       Serial time: 0.0454812s\n",
      "     Parallel time: 0.000886311s\n",
      "Successfully computed Mandelbrot set.\n",
      "advisor: Collection stopped.\n",
      "advisor: Opening result 27 % Loading 'tripcounts_3499400_0.tcs' file           \n",
      "advisor: Error: Cannot load data file `/home/u187015/about_ACIEPE/pp/code/SYCL/mandelbrot/build/src/adv/e000/hs012/data.1/advixe-runtrc.txt' ().\n",
      "advisor: Opening result 29 % Resolving information for `libc-dynamic.so'       \n",
      "advisor: Warning: Cannot locate debugging information for file `/lib64/ld-linux-x86-64.so.2'.\n",
      "advisor: Opening result 29 % Resolving information for `libtask_executor.so.202\n",
      "advisor: Warning: Cannot locate debugging information for file `/lib/x86_64-linux-gnu/libstdc++.so.6'.\n",
      "advisor: Opening result 30 % Resolving information for `libgcc_s.so.1'         \n",
      "advisor: Warning: Cannot locate debugging information for file `/lib/x86_64-linux-gnu/libgcc_s.so.1'.\n",
      "advisor: Opening result 30 % Resolving information for `libc.so.6'             \n",
      "advisor: Warning: Cannot locate debugging information for file `/lib/x86_64-linux-gnu/libc.so.6'.\n",
      "advisor: Opening result 30 % Resolving information for `libittnotify_collector.\n",
      "advisor: Warning: Cannot locate debugging information for file `/glob/development-tools/versions/oneapi/2023.0.1/oneapi/advisor/2023.0.0/lib64/runtime/libittnotify_collector.so'.\n",
      "advisor: Opening result 30 % Resolving information for `libdl.so.2'            \n",
      "advisor: Warning: Cannot locate debugging information for file `/lib/x86_64-linux-gnu/libdl.so.2'.\n",
      "advisor: Opening result 31 % Resolving information for `libpthread.so.0'       \n",
      "advisor: Warning: Cannot locate debugging information for file `/lib/x86_64-linux-gnu/libpthread.so.0'.\n",
      "advisor: Opening result 32 % Resolving information for `f9dc191c6d67f8ec'      \n",
      "advisor: Warning: Cannot locate debugging information for file `/glob/development-tools/versions/oneapi/2023.0.1/oneapi/advisor/2023.0.0/lib64/libtpsstool.so'.\n",
      "advisor: Opening result 99 % done                                              \n",
      "advisor: Preparing frequently used data  2 % done                              \n",
      "advisor: Preparing frequently used data 100 % done                             \n",
      "advisor: Warning: Some target modules do not contain debug information \n",
      "advisor: Warning: Your application might be underperforming \n",
      "advisor: Warning: Application with offload directives may require a GPU-specific analysis \n",
      "\n",
      "Program Elapsed Time: 6.05s\n",
      "\n",
      "CPU Time: 6.05s\n",
      "Time in 1 Vectorized Loop: 0.01s\n",
      "GFLOPS: 0.02\n",
      "GINTOPS: 0.01\n",
      "\n",
      "advisor: Starting command line: advisor --collect tripcounts --flop --project-dir ./adv --flop --no-trip-counts -- ./mandelbrot_usm\n",
      "Intel(R) Advisor Command Line Tool\n",
      "Copyright (C) 2009-2023 Intel Corporation. All rights reserved.\n",
      "advisor: Opening result 25 % done                                              \n",
      "advisor: Preparing frequently used data  2 % done                              \n",
      "advisor: Preparing frequently used data 100 % done                             \n",
      "advisor: Collection started. To stop the collection, either press CTRL-C or enter from another console window: advisor -r /home/u187015/about_ACIEPE/pp/code/SYCL/mandelbrot/build/src/adv/e000/trc011 -command stop.\n",
      "     Platform Name: Intel(R) OpenCL\n",
      "  Platform Version: OpenCL 3.0 LINUX\n",
      "       Device Name: Intel(R) Xeon(R) Gold 6128 CPU @ 3.40GHz\n",
      "    Max Work Group: 8192\n",
      " Max Compute Units: 12\n",
      "\n",
      "Parallel Mandelbrot set using USM.\n",
      " Rendered image output to file: mandelbrot.png (output too large to display in text)\n",
      "       Serial time: 0.0819319s\n",
      "     Parallel time: 0.00317764s\n",
      "Successfully computed Mandelbrot set.\n",
      "advisor: Warning: The application returned a non-zero exit value.\n",
      "advisor: Warning: The application exit code can indicate an error while loading shared libraries, e.g. OpenMP runtime. \n",
      "\n",
      "Possible Solution: Configure the PATH environment variable. If you use an Intel compiler, you can run the following configuration script: \n",
      "\n",
      "source /[install-dir]/bin/compilervars.sh -arch [arch] -platform [platform] \n",
      "Example: source /opt/intel/bin/compilervars.sh intel64  \n",
      "advisor: Opening result 100 % done                                             \n",
      "advisor: Preparing frequently used data  2 % done                              \n",
      "advisor: Preparing frequently used data 100 % done                             \n",
      "advisor: Warning: Some target modules do not contain debug information \n",
      "advisor: Warning: Your application might be underperforming \n",
      "advisor: Warning: Application with offload directives may require a GPU-specific analysis \n",
      "\n",
      "Program Elapsed Time: 6.05s\n",
      "\n",
      "CPU Time: 6.05s\n",
      "Time in 1 Vectorized Loop: 0.01s\n",
      "GFLOPS: 1.99\n",
      "GINTOPS: 0.06\n",
      "\n",
      "advisor: Opening result 25 % done                                              \n",
      "advisor: Preparing frequently used data  2 % done                              \n",
      "advisor: Preparing frequently used data 100 % done                             [100%] Built target run-profile\n"
     ]
    }
   ],
   "source": [
    "# Execute esta célula para submeter o build do Exemplo 02.\n",
    "!cd mandelbrot ; \\\n",
    "chmod 755 q; chmod 755 build_run.sh;if [ -x \"$(command -v qsub)\" ]; then ./build_run.sh; else ./build_run.sh; fi\n"
   ]
  },
  {
   "cell_type": "markdown",
   "metadata": {},
   "source": [
    "Com a execução das células acima, você notará a criação de dois arquivos na pasta principal :\n",
    "- dct_roofline.html \n",
    "- mandel_roofline.html \n",
    "Estes arquivos podem ser visualizados aqui mesmo no Jupyter:"
   ]
  },
  {
   "cell_type": "code",
   "execution_count": 116,
   "metadata": {},
   "outputs": [
    {
     "data": {
      "text/html": [
       "\n",
       "        <iframe\n",
       "            width=\"100%\"\n",
       "            height=\"600\"\n",
       "            src=\"dct_roofline.html\"\n",
       "            frameborder=\"0\"\n",
       "            allowfullscreen\n",
       "            \n",
       "        ></iframe>\n",
       "        "
      ],
      "text/plain": [
       "<IPython.lib.display.IFrame at 0x7f004c6300a0>"
      ]
     },
     "execution_count": 116,
     "metadata": {},
     "output_type": "execute_result"
    }
   ],
   "source": [
    "#Impressao Roofline de dct\n",
    "from IPython.display import IFrame\n",
    "IFrame('dct_roofline.html', width='100%', height=600)\n"
   ]
  },
  {
   "cell_type": "code",
   "execution_count": 119,
   "metadata": {},
   "outputs": [
    {
     "data": {
      "text/html": [
       "\n",
       "        <iframe\n",
       "            width=\"100%\"\n",
       "            height=\"769\"\n",
       "            src=\"mandel_roofline.html\"\n",
       "            frameborder=\"0\"\n",
       "            allowfullscreen\n",
       "            \n",
       "        ></iframe>\n",
       "        "
      ],
      "text/plain": [
       "<IPython.lib.display.IFrame at 0x7f004c630790>"
      ]
     },
     "execution_count": 119,
     "metadata": {},
     "output_type": "execute_result"
    }
   ],
   "source": [
    "#Impressao Roofline de MandelBrot\n",
    "from IPython.display import IFrame\n",
    "IFrame(src='mandel_roofline.html', width='100%', height=769)"
   ]
  },
  {
   "cell_type": "code",
   "execution_count": null,
   "metadata": {},
   "outputs": [],
   "source": []
  }
 ],
 "metadata": {
  "kernelspec": {
   "display_name": "Python 3 (Intel® oneAPI 2023.0)",
   "language": "python",
   "name": "c009-intel_distribution_of_python_3_oneapi-beta05-python"
  },
  "language_info": {
   "codemirror_mode": {
    "name": "ipython",
    "version": 3
   },
   "file_extension": ".py",
   "mimetype": "text/x-python",
   "name": "python",
   "nbconvert_exporter": "python",
   "pygments_lexer": "ipython3",
   "version": "3.9.15"
  },
  "vscode": {
   "interpreter": {
    "hash": "916dbcbb3f70747c44a77c7bcd40155683ae19c65e1c03b4aa3499c5328201f1"
   }
  }
 },
 "nbformat": 4,
 "nbformat_minor": 4
}
