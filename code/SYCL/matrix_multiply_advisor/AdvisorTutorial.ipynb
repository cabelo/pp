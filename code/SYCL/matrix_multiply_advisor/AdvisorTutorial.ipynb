{
 "cells": [
  {
   "cell_type": "markdown",
   "id": "8b421a6d-19fa-4dff-9532-2496f66752f7",
   "metadata": {},
   "source": [
    "# Tutorial Intel Advisor\n",
    "\n",
    "Neste exemplo vamos conhecer a ferramenta Intel Advisor usando um exemplo de multiplicação de matrizes 1024x1024. Execute a célula a seguir uma única vez para criar a pasta `build`:\n"
   ]
  },
  {
   "cell_type": "code",
   "execution_count": null,
   "id": "bbaefa75-91e3-4101-bf11-624f0768a719",
   "metadata": {},
   "outputs": [],
   "source": [
    "!mkdir build"
   ]
  },
  {
   "cell_type": "markdown",
   "id": "33341803-4161-4dbc-8598-8ed95396d0ec",
   "metadata": {},
   "source": [
    "Os próximos passos serão executados repetidas vezes, uma para cada versão do código. Para modificar a versão desejada, [edite este arquivo](src/multiply.hpp) na linha 35.  Os valores possíveis são `multiply1`, `multiply1_1` e `multiply1_2`."
   ]
  },
  {
   "cell_type": "code",
   "execution_count": null,
   "id": "291ec96e-bdcb-454b-b997-281325d7b263",
   "metadata": {},
   "outputs": [],
   "source": [
    "!cd build && cmake .. && make\n",
    "!advisor --collect=roofline --project-dir=./advi  --search-dir src:p=./advi -- ./build/matrix.dpcpp\n",
    "!advisor --report=roofline --report-output=./advi/advisor-roofline.html --project-dir=./advi"
   ]
  },
  {
   "cell_type": "code",
   "execution_count": null,
   "id": "6b23409a-188f-4b42-87de-2d0568622e8a",
   "metadata": {},
   "outputs": [],
   "source": [
    "from IPython.display import IFrame; IFrame('advi/advisor-roofline.html', width='100%', height=600)"
   ]
  },
  {
   "cell_type": "markdown",
   "id": "d1efb472-b04f-456a-b0cf-99392be61e4a",
   "metadata": {},
   "source": [
    "## Análise\n",
    "\n",
    "A primeira versão (`multiply1`) está limitada à vazão da memória principal (DRAM). A intensidade operacional é 0.242 FLOP/Byte.\n",
    "\n",
    "A segunda versão (`multiply1_1`) usa uma variável local como acumulador o que, supostamente, aumenta a intensidade operacional para 0.471 FLOP/Byte, mas não melhora o desempenho. Isso ocorre porque o gargalo são os acessos de leitura e não o acúmulo do resultado, que acaba ficando na cache. \n",
    "\n",
    "A terceira versão (`multiply1_2`) usa a técnica de blocagem e com ela consegue melhorar bastante o desempenho, ficando limitada à vazão da cache L2 ou pouco mais. Note que a intensidade operacional volta a ser a inicial. Inicialmente, são usados blocos 16x16, experimente alterar este valor na constante [MATRIXTILESIZE](src/multiply.hpp) (precisa ser um divisor exato de 1024). O valor ideal vai depender da quantidade de cache do processador. "
   ]
  },
  {
   "cell_type": "markdown",
   "id": "695829cc-97bc-408f-9e5c-73b4634705e4",
   "metadata": {},
   "source": [
    "## Referência\n",
    "\n",
    "https://www.intel.com/content/www/us/en/develop/documentation/get-started-with-advisor/\n",
    "\n",
    "Navegue pelas outras sessões, experimente com outras aplicações. "
   ]
  }
 ],
 "metadata": {
  "kernelspec": {
   "display_name": "Python 3 (Intel® oneAPI 2023.0)",
   "language": "python",
   "name": "c009-intel_distribution_of_python_3_oneapi-beta05-python"
  },
  "language_info": {
   "codemirror_mode": {
    "name": "ipython",
    "version": 3
   },
   "file_extension": ".py",
   "mimetype": "text/x-python",
   "name": "python",
   "nbconvert_exporter": "python",
   "pygments_lexer": "ipython3",
   "version": "3.9.15"
  }
 },
 "nbformat": 4,
 "nbformat_minor": 5
}
