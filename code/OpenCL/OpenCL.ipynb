{
  "cells": [
    {
      "cell_type": "markdown",
      "metadata": {
        "id": "rGHXEvMdA78x"
      },
      "source": [
        "# Tutorial OpenCL \n",
        "\n",
        "Requisitos:\n",
        "- OpenCL 1.2\n",
        "- Python 2.7.16 (pyopencl 2019.1.1, numpy 1.16.5, pandas 0.24.2)\n",
        "\n",
        "## Preparo do Notebook \n",
        "Antes de começar a usar este notebook, execute a célula abaixo !"
      ]
    },
    {
      "cell_type": "code",
      "source": [
        "!pip3 install pyopencl\n",
        "!sudo apt install subversion\n",
        "\n",
        "#Download files from Github \n",
        "!svn checkout https://github.com/menotti/pp/trunk/code/OpenCL/ \n",
        "!mv OpenCL/*.cl ./ && rm -fr OpenCL"
      ],
      "metadata": {
        "id": "0lyek5SGA9Ln"
      },
      "execution_count": null,
      "outputs": []
    },
    {
      "cell_type": "code",
      "execution_count": null,
      "metadata": {
        "id": "rAiOLUMHA780"
      },
      "outputs": [],
      "source": [
        "#\n",
        "# Matrix Multiplication Driver\n",
        "#\n",
        "# This is a driver program to test various ways of computing\n",
        "# the product:\n",
        "#                 C = A * B\n",
        "#\n",
        "# A and B are constant matrices, square and the order is\n",
        "# set as a constant, ORDER (see definitions.py). This is so\n",
        "# we can make a quick test of the multiplication result.\n",
        "#\n",
        "# History:   C++ version written by Tim Mattson, August 2010 \n",
        "#            Modified by Simon McIntosh-Smith, September 2011\n",
        "#            Modified by Tom Deakin and Simon McIntosh-Smith, October 2012\n",
        "#            Ported to Python by Tom Deakin, July 2013\n",
        "#            Ported to Jupyter Notebooks by Ricardo Menotti, May 2020\n",
        "\n",
        "from time import time\n",
        "import pyopencl as cl\n",
        "import pandas as pd\n",
        "import numpy\n",
        "import os\n",
        "\n",
        "# Order of the square matrices A, B and C\n",
        "ORDER = 1024\n",
        "\n",
        "# A elemetns are constant and equal to AVAL\n",
        "AVAL = 3.0\n",
        "\n",
        "# B elemetns are constant and equal to BVAL\n",
        "BVAL = 5.0\n",
        "\n",
        "# tolerance used in floating point comparisons\n",
        "TOL = 0.001\n",
        "\n",
        "# Max dim for NDRange\n",
        "DIM = 2\n",
        "\n",
        "# File to read/write results\n",
        "FILENAME = 'results.csv'\n",
        "\n",
        "# number of times to do each multiplication\n",
        "COUNT = 10\n",
        "\n",
        "# Creating Pandas DataFrame \n",
        "if os.path.isfile(FILENAME):\n",
        "    df = pd.read_csv(FILENAME)\n",
        "else:\n",
        "    df = pd.DataFrame({\"version\": [], \"execution_time\": []})\n",
        "\n",
        "#  Function to compute the matrix product (sequential algorithm, dot prod)\n",
        "def seq_mat_mul_sdot(N, A, B, C):\n",
        "    for i in range(N):\n",
        "        for j in range(N):\n",
        "            tmp = 0.0\n",
        "            for k in range(N):\n",
        "                tmp += A[i*N+k] * B[k*N+j]\n",
        "            C[i*N+j] = tmp\n",
        "\n",
        "#  Function to compute errors of the product matrix\n",
        "def error(N, C):\n",
        "   cval = float(N) * AVAL * BVAL\n",
        "   errsq = 0.0\n",
        "   for i in range(N):\n",
        "       for j in range(N):\n",
        "            err = C[i*N+j] - cval\n",
        "            errsq += err * err\n",
        "   return errsq;\n",
        "\n",
        "# Function to analyze and output results\n",
        "def results(N, C, run_time):\n",
        "    mflops = 2.0 * N * N * N/(1000000.0* run_time)\n",
        "    print( run_time, \"seconds at\", mflops, \"MFLOPS\")\n",
        "    errsq = error(N, C)\n",
        "    if (errsq > TOL):\n",
        "        print(\"Errors in multiplication:\", errsq)\n",
        "\n",
        "# A[N][N], B[N][N], C[N][N]\n",
        "N = ORDER;\n",
        "\n",
        "# Number of elements in the matrix\n",
        "size = N * N\n",
        "\n",
        "# A matrix\n",
        "h_A = numpy.empty(size).astype(numpy.float32)\n",
        "h_A.fill(AVAL)\n",
        "\n",
        "# B matrix\n",
        "h_B = numpy.empty(size).astype(numpy.float32)\n",
        "h_B.fill(BVAL)\n",
        "\n",
        "# C matrix\n",
        "h_C = numpy.empty(size).astype(numpy.float32)"
      ]
    },
    {
      "cell_type": "markdown",
      "metadata": {
        "id": "wM84zIkhA782"
      },
      "source": [
        "Em Python o OpenCL é um pouco mais sucinto, por exemplo, basta as duas linhas abaixo para criar um fila associada a um dispositivo/contexto. "
      ]
    },
    {
      "cell_type": "code",
      "execution_count": null,
      "metadata": {
        "id": "M_aMp6YMA782"
      },
      "outputs": [],
      "source": [
        "# Set the environment variable to choose platform/device \n",
        "# os.environ[\"PYOPENCL_CTX\"] = '0:0'\n",
        "\n",
        "# Setup OpenCL\n",
        "platform = cl.get_platforms()\n",
        "my_gpu_devices = platform[0].get_devices(device_type=cl.device_type.GPU)\n",
        "context = cl.Context(devices=my_gpu_devices)\n",
        "# context = cl.create_some_context()\n",
        "queue = cl.CommandQueue(context)\n",
        "\n",
        "# Reset host buffers - just to play it safe\n",
        "h_A = numpy.empty(size).astype(numpy.float32)\n",
        "h_A.fill(AVAL)\n",
        "h_B = numpy.empty(size).astype(numpy.float32)\n",
        "h_B.fill(BVAL)\n",
        "h_C = numpy.empty(size).astype(numpy.float32)\n",
        "\n",
        "# Create OpenCL buffers\n",
        "d_a = cl.Buffer(context, cl.mem_flags.READ_ONLY | cl.mem_flags.COPY_HOST_PTR, hostbuf=h_A)\n",
        "d_b = cl.Buffer(context, cl.mem_flags.READ_ONLY | cl.mem_flags.COPY_HOST_PTR, hostbuf=h_B)\n",
        "d_c = cl.Buffer(context, cl.mem_flags.WRITE_ONLY, h_C.nbytes)"
      ]
    },
    {
      "cell_type": "markdown",
      "metadata": {
        "id": "DwhryqquA783"
      },
      "source": [
        "Na versão mais simples, cada _work-item_ calcula um elemento da matriz:"
      ]
    },
    {
      "cell_type": "code",
      "execution_count": null,
      "metadata": {
        "id": "O8dzjUJMA783"
      },
      "outputs": [],
      "source": [
        "!cat C_elem.cl"
      ]
    },
    {
      "cell_type": "code",
      "execution_count": null,
      "metadata": {
        "id": "zLFdViY6A783"
      },
      "outputs": [],
      "source": [
        "#--------------------------------------------------------------------------------\n",
        "# OpenCL matrix multiplication ... Naive\n",
        "#--------------------------------------------------------------------------------\n",
        "\n",
        "kernelsource = open(\"C_elem.cl\").read()\n",
        "program = cl.Program(context, kernelsource).build()\n",
        "mmul = program.mmul\n",
        "mmul.set_scalar_arg_dtypes([numpy.int32, None, None, None])\n",
        "print( \"\\n===== OpenCL, matrix mult, C(i,j) per work item, order\", N, \"======\\n\")\n",
        "\n",
        "# Do the multiplication COUNT times\n",
        "for i in range(COUNT):\n",
        "    h_C.fill(0.0)\n",
        "    start_time = time()\n",
        "    mmul(queue, (N, N), None, N, d_a, d_b, d_c)\n",
        "    queue.finish()\n",
        "    run_time = time() - start_time\n",
        "    cl.enqueue_copy(queue, h_C, d_c)\n",
        "    results(N, h_C, run_time)\n",
        "    df = df.append(pd.DataFrame({\"version\": [\"naive\"], \n",
        "                                 \"execution_time\": [run_time]}))\n",
        "df.to_csv(FILENAME, index = False, header = True)"
      ]
    },
    {
      "cell_type": "markdown",
      "metadata": {
        "id": "_4iwYRuiA784"
      },
      "source": [
        "Nesta versão, cada _work-item_ calcula uma linha da matriz:"
      ]
    },
    {
      "cell_type": "code",
      "execution_count": null,
      "metadata": {
        "id": "uiNO0RDlA784"
      },
      "outputs": [],
      "source": [
        "!cat C_row.cl"
      ]
    },
    {
      "cell_type": "code",
      "execution_count": null,
      "metadata": {
        "id": "KS4MIOwYA784"
      },
      "outputs": [],
      "source": [
        "#--------------------------------------------------------------------------------\n",
        "# OpenCL matrix multiplication ... C row per work item\n",
        "#--------------------------------------------------------------------------------\n",
        "\n",
        "kernelsource = open(\"C_row.cl\").read()\n",
        "program = cl.Program(context, kernelsource).build()\n",
        "mmul = program.mmul\n",
        "mmul.set_scalar_arg_dtypes([numpy.int32, None, None, None])\n",
        "print( \"\\n===== OpenCL, matrix mult, C row per work item, order\", N, \"======\\n\")\n",
        "# Do the multiplication COUNT times\n",
        "for i in range(COUNT):\n",
        "    h_C.fill(0.0)\n",
        "    start_time = time()\n",
        "    mmul(queue, (N,), (ORDER//16,), N, d_a, d_b, d_c)\n",
        "    queue.finish()\n",
        "    run_time = time() - start_time\n",
        "    cl.enqueue_copy(queue, h_C, d_c)\n",
        "    results(N, h_C, run_time)\n",
        "    df = df.append(pd.DataFrame({\"version\": [\"C row per work item\"], \n",
        "                                 \"execution_time\": [run_time]}))\n",
        "df.to_csv(FILENAME, index = False, header = True)"
      ]
    },
    {
      "cell_type": "markdown",
      "metadata": {
        "id": "9rcgy_tXA784"
      },
      "source": [
        "Agora fazemos o mesmo, mas antes copiamos uma linha da matriz A em memória privada "
      ]
    },
    {
      "cell_type": "code",
      "execution_count": null,
      "metadata": {
        "id": "eQ5zhMOrA785"
      },
      "outputs": [],
      "source": [
        "!cat C_row_priv.cl"
      ]
    },
    {
      "cell_type": "code",
      "execution_count": null,
      "metadata": {
        "id": "AYbu-yG1A785"
      },
      "outputs": [],
      "source": [
        "#--------------------------------------------------------------------------------\n",
        "# OpenCL matrix multiplication ... C row per work item, A row in private memory\n",
        "#--------------------------------------------------------------------------------\n",
        "PYBIND11_DETAILED_ERROR_MESSAGES = 1\n",
        "kernelsource = open(\"C_row_priv.cl\").read()\n",
        "program = cl.Program(context, kernelsource).build()\n",
        "mmul = program.mmul\n",
        "mmul.set_scalar_arg_dtypes([numpy.int32, None, None, None])\n",
        "print( \"\\n===== OpenCL, matrix mult, C row, A row in priv mem, order\", N, \"======\\n\")\n",
        "# Do the multiplication COUNT times\n",
        "for i in range(COUNT):\n",
        "    h_C.fill(0.0)\n",
        "    start_time = time()\n",
        "    mmul(queue, (N,), (ORDER//16,), N, d_a, d_b, d_c)\n",
        "    queue.finish()\n",
        "    run_time = time() - start_time\n",
        "    cl.enqueue_copy(queue, h_C, d_c)\n",
        "    results(N, h_C, run_time)\n",
        "    df = df.append(pd.DataFrame({\"version\": [\"C row, A row in priv mem\"], \n",
        "                                 \"execution_time\": [run_time]}))\n",
        "df.to_csv(FILENAME, index = False, header = True)"
      ]
    },
    {
      "cell_type": "markdown",
      "metadata": {
        "id": "ooXJVTl7A785"
      },
      "source": [
        "Agora vamos usar a memória local para a coluna B da matriz a ser calculada "
      ]
    },
    {
      "cell_type": "code",
      "execution_count": null,
      "metadata": {
        "id": "1iMuQWqcA785"
      },
      "outputs": [],
      "source": [
        "!cat C_row_priv_bloc.cl"
      ]
    },
    {
      "cell_type": "code",
      "execution_count": null,
      "metadata": {
        "id": "cLg69CesA785"
      },
      "outputs": [],
      "source": [
        "#--------------------------------------------------------------------------------\n",
        "# OpenCL matrix multiplication ... C row per work item, A row private, B col local\n",
        "#--------------------------------------------------------------------------------\n",
        "\n",
        "kernelsource = open(\"C_row_priv_bloc.cl\").read()\n",
        "program = cl.Program(context, kernelsource).build()\n",
        "mmul = program.mmul\n",
        "mmul.set_scalar_arg_dtypes([numpy.int32, None, None, None, None])\n",
        "print (\"\\n===== OpenCL, mat mult, C row, priv A, B cols loc, order\", N, \"======\\n\")\n",
        "# Do the multiplication COUNT times\n",
        "for i in range(COUNT):\n",
        "    h_C.fill(0.0)\n",
        "    start_time = time()\n",
        "    localmem = cl.LocalMemory(numpy.dtype(numpy.float32).itemsize * N)\n",
        "    mmul(queue, (N,), (ORDER//16,), N, d_a, d_b, d_c, localmem)\n",
        "    queue.finish()\n",
        "    run_time = time() - start_time\n",
        "    cl.enqueue_copy(queue, h_C, d_c)\n",
        "    results(N, h_C, run_time)\n",
        "    df = df.append(pd.DataFrame({\"version\": [\"C row, priv A, B cols loc\"], \n",
        "                                 \"execution_time\": [run_time]}))\n",
        "df.to_csv(FILENAME, index = False, header = True)"
      ]
    },
    {
      "cell_type": "markdown",
      "metadata": {
        "id": "uPvpxmxBA785"
      },
      "source": [
        "Por fim, temos uma versão que calcula por blocos:"
      ]
    },
    {
      "cell_type": "code",
      "execution_count": null,
      "metadata": {
        "id": "f55F4u4PA785"
      },
      "outputs": [],
      "source": [
        "!cat C_block_form.cl"
      ]
    },
    {
      "cell_type": "code",
      "execution_count": null,
      "metadata": {
        "id": "yc0J0p1JA786"
      },
      "outputs": [],
      "source": [
        "#--------------------------------------------------------------------------------\n",
        "# OpenCL matrix multiplication ... blocked\n",
        "#--------------------------------------------------------------------------------\n",
        "\n",
        "kernelsource = open(\"C_block_form.cl\").read()\n",
        "program = cl.Program(context, kernelsource).build()\n",
        "mmul = program.mmul\n",
        "mmul.set_scalar_arg_dtypes([numpy.int32, None, None, None, None, None])\n",
        "print(\"\\n==== Parallel matrix mult (blocked), order {0} on device ======\\n\".format(N))\n",
        "# Do the multiplication COUNT times\n",
        "for i in range(COUNT):\n",
        "    h_C.fill(0.0)\n",
        "    start_time = time()\n",
        "    # Work-group computes a block of C. This size is also set\n",
        "    # in a #define inside the kernel function. Note this blocksize\n",
        "    # must evenly divide the matrix order\n",
        "    blocksize = 16\n",
        "    A_block = cl.LocalMemory(numpy.dtype(numpy.float32).itemsize * blocksize * blocksize)\n",
        "    B_block = cl.LocalMemory(numpy.dtype(numpy.float32).itemsize * blocksize * blocksize)\n",
        "    mmul(queue, (N,N), (blocksize,blocksize), N,\n",
        "        d_a, d_b, d_c, A_block, B_block)\n",
        "    queue.finish()\n",
        "    run_time = time() - start_time\n",
        "    cl.enqueue_copy(queue, h_C, d_c)\n",
        "    results(N, h_C, run_time)\n",
        "    df = df.append(pd.DataFrame({\"version\": [\"blocked\"], \n",
        "                                 \"execution_time\": [run_time]}))\n",
        "df.to_csv(FILENAME, index = False, header = True)"
      ]
    },
    {
      "cell_type": "code",
      "execution_count": null,
      "metadata": {
        "id": "Cz0LuTvUA786"
      },
      "outputs": [],
      "source": [
        "# Plot results\n",
        "df = pd.read_csv(FILENAME)\n",
        "by_version = df.groupby(by=\"version\", sort=False)\n",
        "avg_time = by_version.mean()\n",
        "std = by_version.std()\n",
        "plt = avg_time.plot(legend=False, kind=\"bar\", yerr=std);\n",
        "plt.set_title(\"Average execution time\");\n",
        "plt.set_ylabel(\"Execution time (seconds)\");\n",
        "plt.get_figure().savefig(\"results.pdf\")"
      ]
    },
    {
      "cell_type": "markdown",
      "metadata": {
        "id": "-5hfNCvIA786"
      },
      "source": [
        "# Referências\n",
        "\n",
        "* [Hands On OpenCL](http://handsonopencl.github.io/)"
      ]
    }
  ],
  "metadata": {
    "kernelspec": {
      "display_name": "Python 3 (ipykernel)",
      "language": "python",
      "name": "python3"
    },
    "language_info": {
      "codemirror_mode": {
        "name": "ipython",
        "version": 3
      },
      "file_extension": ".py",
      "mimetype": "text/x-python",
      "name": "python",
      "nbconvert_exporter": "python",
      "pygments_lexer": "ipython3",
      "version": "3.10.6"
    },
    "vscode": {
      "interpreter": {
        "hash": "916dbcbb3f70747c44a77c7bcd40155683ae19c65e1c03b4aa3499c5328201f1"
      }
    },
    "colab": {
      "provenance": []
    },
    "accelerator": "GPU",
    "gpuClass": "standard"
  },
  "nbformat": 4,
  "nbformat_minor": 0
}