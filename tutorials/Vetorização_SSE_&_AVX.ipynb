{
  "nbformat": 4,
  "nbformat_minor": 0,
  "metadata": {
    "colab": {
      "provenance": [],
      "authorship_tag": "ABX9TyPl11WGN5OAAogV3gzC8TDh",
      "include_colab_link": true
    },
    "kernelspec": {
      "name": "python3",
      "display_name": "Python 3"
    },
    "language_info": {
      "name": "python"
    }
  },
  "cells": [
    {
      "cell_type": "markdown",
      "metadata": {
        "id": "view-in-github",
        "colab_type": "text"
      },
      "source": [
        "<a href=\"https://colab.research.google.com/github/menotti/pp/blob/master/tutorials/Vetoriza%C3%A7%C3%A3o_SSE_%26_AVX.ipynb\" target=\"_parent\"><img src=\"https://colab.research.google.com/assets/colab-badge.svg\" alt=\"Open In Colab\"/></a>"
      ]
    },
    {
      "cell_type": "markdown",
      "source": [
        "# Vetorização SSE & AVX"
      ],
      "metadata": {
        "id": "4jvCMPN-SD6j"
      }
    },
    {
      "cell_type": "code",
      "execution_count": 2,
      "metadata": {
        "colab": {
          "base_uri": "https://localhost:8080/"
        },
        "id": "KqUZfer8R_9-",
        "outputId": "d04b3328-e273-4f38-948d-41434450c7c5"
      },
      "outputs": [
        {
          "output_type": "stream",
          "name": "stdout",
          "text": [
            "fatal: destination path 'playground-41d1904q' already exists and is not an empty directory.\n",
            "title : \"Vetorização SSE & AVX \"\n",
            "cover: /images/cover.png\n",
            "plan:\n",
            "  - title: \"O que é SSE e AVX?\"\n",
            "    statement: markdowns/intro.md\n",
            "  - title: \"Pré-requisitos\"\n",
            "    statement: markdowns/prereq.md\n",
            "  - title: \"Autovetorização\"\n",
            "    statement: markdowns/autovector.md\n",
            "  - title: \"Uso de SSE e AVX\"\n",
            "    statement: markdowns/usage.md\n",
            "  - title: \"Primeiro código AVX: cálculo SQRT\"\n",
            "    statement: markdowns/sqrt.md\n",
            "  - title: \"Frameworks C++ SSE/AVX\"\n",
            "    statement: markdowns/frameworks.md\n",
            "  - title: \"Mascaramento e carga condicional\"\n",
            "    statement: markdowns/masking.md\n",
            "  - title: \"Controlando o fluxo de dados\"\n",
            "    statement: markdowns/dataflow.md\n",
            "  - title: \"Palavras finais\"\n",
            "    statement: markdowns/final.md\n",
            "projects:\n",
            "    avx:\n",
            "        root: /projects/avx\n",
            "        buildCommand: \"chmod +x prebuild.sh && ./prebuild.sh\"\n",
            "        runner:\n",
            "            name: techio/cmake-gcc-runner\n",
            "            version: 1.1.0-gcc-6.3\n"
          ]
        }
      ],
      "source": [
        "!git clone https://github.com/menotti/playground-41d1904q\n",
        "!cat playground-41d1904q/techio.yml"
      ]
    }
  ]
}